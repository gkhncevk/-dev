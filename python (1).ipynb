{
 "cells": [
  {
   "cell_type": "code",
   "execution_count": 1,
   "id": "90f14040-ebdd-4020-8b93-f523638fe073",
   "metadata": {},
   "outputs": [
    {
     "name": "stdin",
     "output_type": "stream",
     "text": [
      "Adınızı giriniz:  gökhan\n",
      "Yaşınızı giriniz:  22\n",
      "Boyunuzu metre cinsinden giriniz:  180\n"
     ]
    },
    {
     "name": "stdout",
     "output_type": "stream",
     "text": [
      "Merhaba, gökhan . Yaşınız: 22 , Boyunuz: 180.0 metre.\n"
     ]
    }
   ],
   "source": [
    "ad = input(\"Adınızı giriniz: \")\n",
    "yas = int(input(\"Yaşınızı giriniz: \"))\n",
    "boy = float(input(\"Boyunuzu metre cinsinden giriniz: \"))\n",
    "\n",
    "print(\"Merhaba,\", ad, \". Yaşınız:\", yas, \", Boyunuz:\", boy, \"metre.\")\n"
   ]
  },
  {
   "cell_type": "code",
   "execution_count": 2,
   "id": "698b9945-c890-47e0-9310-24eca3551851",
   "metadata": {},
   "outputs": [
    {
     "name": "stdin",
     "output_type": "stream",
     "text": [
      "Matematik notu:  90\n",
      "Fizik notu:  50\n",
      "Kimya notu:  30\n"
     ]
    },
    {
     "name": "stdout",
     "output_type": "stream",
     "text": [
      "Ortalamanız: 56.666666666666664\n"
     ]
    }
   ],
   "source": [
    "mat = int(input(\"Matematik notu: \"))\n",
    "fizik = int(input(\"Fizik notu: \"))\n",
    "kimya = int(input(\"Kimya notu: \"))\n",
    "\n",
    "ortalama = (mat + fizik + kimya) / 3\n",
    "print(\"Ortalamanız:\", float(ortalama))\n"
   ]
  },
  {
   "cell_type": "code",
   "execution_count": 4,
   "id": "0792b03d-9f75-4d8a-b678-2dc05137a0c4",
   "metadata": {},
   "outputs": [
    {
     "name": "stdout",
     "output_type": "stream",
     "text": [
      "İlk karakter: G\n",
      "Son karakter: n\n",
      "Uzunluk: 6\n",
      "Ters çevrilmiş: nahköG\n"
     ]
    }
   ],
   "source": [
    "metin = \"Gökhan\"\n",
    "print(\"İlk karakter:\", metin[0])\n",
    "print(\"Son karakter:\", metin[-1])\n",
    "print(\"Uzunluk:\", len(metin))\n",
    "print(\"Ters çevrilmiş:\", metin[::-1])\n"
   ]
  },
  {
   "cell_type": "code",
   "execution_count": 5,
   "id": "346701ce-0c93-4d63-b1a0-6fd9274c4aa4",
   "metadata": {},
   "outputs": [
    {
     "name": "stdin",
     "output_type": "stream",
     "text": [
      "Birinci sayıyı giriniz:  5\n",
      "İkinci sayıyı giriniz:  8\n"
     ]
    },
    {
     "name": "stdout",
     "output_type": "stream",
     "text": [
      "Toplama: 13\n",
      "Çıkarma: -3\n",
      "Çarpma: 40\n",
      "Bölme: 0.625\n",
      "Mod: 5\n"
     ]
    }
   ],
   "source": [
    "x = int(input(\"Birinci sayıyı giriniz: \"))\n",
    "y = int(input(\"İkinci sayıyı giriniz: \"))\n",
    "\n",
    "print(\"Toplama:\", x + y)\n",
    "print(\"Çıkarma:\", x - y)\n",
    "print(\"Çarpma:\", x * y)\n",
    "print(\"Bölme:\", x / y)\n",
    "print(\"Mod:\", x % y)\n"
   ]
  },
  {
   "cell_type": "code",
   "execution_count": 6,
   "id": "fd02a5e1-1077-4cc9-b54b-22536924b4d2",
   "metadata": {},
   "outputs": [
    {
     "name": "stdin",
     "output_type": "stream",
     "text": [
      "Ortalamanızı giriniz:  53\n"
     ]
    },
    {
     "name": "stdout",
     "output_type": "stream",
     "text": [
      "Geçti\n"
     ]
    }
   ],
   "source": [
    "ortalama = float(input(\"Ortalamanızı giriniz: \"))\n",
    "\n",
    "if ortalama > 50:\n",
    "    print(\"Geçti!\")\n",
    "else:\n",
    "    print(\"Kaldı!\")\n"
   ]
  },
  {
   "cell_type": "code",
   "execution_count": 7,
   "id": "eba3c1aa-d95a-4068-b49b-b5db4fce6495",
   "metadata": {},
   "outputs": [
    {
     "name": "stdin",
     "output_type": "stream",
     "text": [
      "Yaşınızı giriniz:  22\n"
     ]
    },
    {
     "name": "stdout",
     "output_type": "stream",
     "text": [
      "Ehliyet alabilirsiniz\n"
     ]
    }
   ],
   "source": [
    "yas = int(input(\"Yaşınızı giriniz: \"))\n",
    "\n",
    "if yas >= 18:\n",
    "    print(\"Ehliyet alabilirsiniz!\")\n",
    "else:\n",
    "    print(\"Ehliyet alamazsınız!\")\n"
   ]
  },
  {
   "cell_type": "code",
   "execution_count": 1,
   "id": "6c9fa4cb-3f95-4f4e-8028-80e3772b0a50",
   "metadata": {},
   "outputs": [
    {
     "name": "stdin",
     "output_type": "stream",
     "text": [
      "Ürün fiyatını giriniz:  100\n",
      "İndirim oranını (%) giriniz:  10\n"
     ]
    },
    {
     "name": "stdout",
     "output_type": "stream",
     "text": [
      "İndirimli fiyat: 90.0\n"
     ]
    }
   ],
   "source": [
    "fiyat = float(input(\"Ürün fiyatını giriniz: \"))\n",
    "indirim = float(input(\"İndirim oranını (%) giriniz: \"))\n",
    "\n",
    "indirimliFiyat = fiyat - (fiyat * indirim / 100)\n",
    "print(\"İndirimli fiyat:\", indirimliFiyat)\n"
   ]
  },
  {
   "cell_type": "code",
   "execution_count": null,
   "id": "52ac89b5-10ba-4985-8ae4-4bc8ebbef8c0",
   "metadata": {},
   "outputs": [],
   "source": [
    "a = True\n",
    "b = False\n",
    "\n",
    "print(\"a and b:\", a and b)\n",
    "print(\"a or b:\", a or b)\n",
    "print(\"not a:\", not a)\n"
   ]
  },
  {
   "cell_type": "code",
   "execution_count": 2,
   "id": "0ced0060-e652-4a78-827f-7188dec7ac81",
   "metadata": {},
   "outputs": [
    {
     "name": "stdin",
     "output_type": "stream",
     "text": [
      "1. ürünün fiyatı:  10\n",
      "2. ürünün fiyatı:  20\n",
      "3. ürünün fiyatı:  30\n"
     ]
    },
    {
     "name": "stdout",
     "output_type": "stream",
     "text": [
      "60.0\n"
     ]
    }
   ],
   "source": [
    "urun1 = float(input(\"1. ürünün fiyatı: \"))\n",
    "urun2 = float(input(\"2. ürünün fiyatı: \"))\n",
    "urun3 = float(input(\"3. ürünün fiyatı: \"))\n",
    "\n",
    "toplam = urun1 + urun2 + urun3\n",
    "\n",
    "if toplam > 200:\n",
    "    toplam = toplam - (toplam * 0.10)   # %10 indirim\n",
    "\n",
    "print(toplam)\n"
   ]
  },
  {
   "cell_type": "code",
   "execution_count": 3,
   "id": "d0659be6-627f-4945-99cd-bf6f7cc18ece",
   "metadata": {},
   "outputs": [
    {
     "name": "stdin",
     "output_type": "stream",
     "text": [
      "Doğum yılınızı giriniz:  2003\n"
     ]
    },
    {
     "name": "stdout",
     "output_type": "stream",
     "text": [
      "Yetişkinsiniz!\n"
     ]
    }
   ],
   "source": [
    "dogum = int(input(\"Doğum yılınızı giriniz: \"))\n",
    "guncelYıl = 2025\n",
    "\n",
    "yas = guncelYıl - dogum\n",
    "\n",
    "if 0 <= yas <= 12:\n",
    "    print(\"Çocuksunuz!\")\n",
    "elif 13 <= yas <= 17:\n",
    "    print(\"Ergensiniz!\")\n",
    "elif yas >= 18:\n",
    "    print(\"Yetişkinsiniz!\")\n",
    "else:\n",
    "    print(\"Geçersiz yaş!!\")\n"
   ]
  },
  {
   "cell_type": "code",
   "execution_count": null,
   "id": "d661afc1-a0ee-433e-ae5e-46f946e33205",
   "metadata": {},
   "outputs": [],
   "source": []
  }
 ],
 "metadata": {
  "kernelspec": {
   "display_name": "Python 3 (ipykernel)",
   "language": "python",
   "name": "python3"
  },
  "language_info": {
   "codemirror_mode": {
    "name": "ipython",
    "version": 3
   },
   "file_extension": ".py",
   "mimetype": "text/x-python",
   "name": "python",
   "nbconvert_exporter": "python",
   "pygments_lexer": "ipython3",
   "version": "3.13.5"
  }
 },
 "nbformat": 4,
 "nbformat_minor": 5
}
